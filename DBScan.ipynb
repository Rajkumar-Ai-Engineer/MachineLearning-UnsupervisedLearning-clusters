{
 "cells": [
  {
   "cell_type": "markdown",
   "metadata": {},
   "source": [
    "# **Load Dataset**"
   ]
  },
  {
   "cell_type": "code",
   "execution_count": null,
   "metadata": {},
   "outputs": [],
   "source": [
    "import pandas as pd\n",
    "\n",
    "df = pd.read_csv(\"Mall_Customers.csv\")\n",
    "df"
   ]
  },
  {
   "cell_type": "markdown",
   "metadata": {},
   "source": [
    "# **Exploratory Data Analysis**\n",
    "\n"
   ]
  },
  {
   "cell_type": "code",
   "execution_count": null,
   "metadata": {},
   "outputs": [],
   "source": [
    "df.shape"
   ]
  },
  {
   "cell_type": "code",
   "execution_count": null,
   "metadata": {},
   "outputs": [],
   "source": [
    "df.head()"
   ]
  },
  {
   "cell_type": "code",
   "execution_count": null,
   "metadata": {},
   "outputs": [],
   "source": [
    "df.describe()"
   ]
  },
  {
   "cell_type": "code",
   "execution_count": null,
   "metadata": {},
   "outputs": [],
   "source": [
    "df.info()"
   ]
  },
  {
   "cell_type": "code",
   "execution_count": null,
   "metadata": {},
   "outputs": [],
   "source": [
    "df.columns[df.isna().any()]"
   ]
  },
  {
   "cell_type": "markdown",
   "metadata": {},
   "source": [
    "# **Segregating the data**"
   ]
  },
  {
   "cell_type": "code",
   "execution_count": null,
   "metadata": {},
   "outputs": [],
   "source": [
    "X = df.iloc[:,3:5].values\n",
    "X"
   ]
  },
  {
   "cell_type": "markdown",
   "metadata": {},
   "source": [
    "# **scaling the data**"
   ]
  },
  {
   "cell_type": "code",
   "execution_count": null,
   "metadata": {},
   "outputs": [],
   "source": [
    "from sklearn.preprocessing import StandardScaler\n",
    "\n",
    "X_alter = StandardScaler().fit_transform(X)\n",
    "X_alter"
   ]
  },
  {
   "cell_type": "markdown",
   "metadata": {},
   "source": [
    "# **Train the K-Means**"
   ]
  },
  {
   "cell_type": "code",
   "execution_count": null,
   "metadata": {},
   "outputs": [],
   "source": [
    "from sklearn.cluster import DBSCAN\n",
    "import matplotlib.pyplot as plt\n",
    "# Model using DBSCAN\n",
    "# Adjust 'eps' and 'min_samples' based on your dataset\n",
    "model = DBSCAN(eps=0.4, min_samples=4, metric='euclidean')\n",
    "y_means = model.fit_predict(X_alter)\n",
    "y_means\n"
   ]
  },
  {
   "cell_type": "code",
   "execution_count": null,
   "metadata": {},
   "outputs": [],
   "source": [
    "\n",
    "\n",
    "# Plotting each cluster with different colors\n",
    "colors = ['deeppink', 'red', 'blue', 'green', 'purple', 'orange', 'cyan']  # You can add more colors if needed\n",
    "unique_labels = set(y_means)\n",
    "\n",
    "# Plot each cluster\n",
    "for k in unique_labels:\n",
    "    if k == -1:\n",
    "        # Plot noise points in black\n",
    "        plt.scatter(X[y_means == k, 0], X[y_means == k, 1], c='black', s=50, label='Noise')\n",
    "    else:\n",
    "        color = colors[k % len(colors)]  # Cycle through the color list\n",
    "        plt.scatter(X[y_means == k, 0], X[y_means == k, 1], c=color, s=50, label=f'Cluster {k + 1}')\n",
    "\n",
    "# Title and axis labels\n",
    "plt.title(\"DBSCAN Clustering\")\n",
    "plt.xlabel(\"Annual Income\")\n",
    "plt.ylabel(\"Spending Score\")\n",
    "\n",
    "# Place the legend outside the plot\n",
    "plt.legend(loc='center left', bbox_to_anchor=(1, 0.5), fontsize='small', fancybox=True, shadow=True, title='Clusters', frameon=True)\n",
    "\n",
    "# Adjust layout to make room for the legend\n",
    "plt.tight_layout(rect=[0, 0, 0.85, 1])\n",
    "\n",
    "# Show the plot\n",
    "plt.show()\n"
   ]
  },
  {
   "cell_type": "code",
   "execution_count": null,
   "metadata": {},
   "outputs": [],
   "source": [
    "import matplotlib.pyplot as plt\n",
    "from sklearn.cluster import DBSCAN\n",
    "from sklearn.preprocessing import StandardScaler\n",
    "import numpy as np\n",
    "\n",
    "# Sample data (replace this with your actual dataset)\n",
    "# X = np.random.rand(100, 2)\n",
    "\n",
    "# Standardize the data\n",
    "X_scaled = StandardScaler().fit_transform(X)\n",
    "\n",
    "# DBSCAN Clustering with different parameters\n",
    "eps_values = [0.3, 0.4, 0.5]  # Experiment with different eps values\n",
    "min_samples_values = [3, 5, 10]  # Experiment with different min_samples values\n",
    "\n",
    "for eps in eps_values:\n",
    "    for min_samples in min_samples_values:\n",
    "        model = DBSCAN(eps=eps, min_samples=min_samples, metric='euclidean')\n",
    "        y_means = model.fit_predict(X_scaled)\n",
    "        # print(y_means)\n",
    "        \n",
    "        # Print the number of clusters found\n",
    "        num_clusters = len(set(y_means)) - (1 if -1 in y_means else 0)\n",
    "        print(f\"eps: {eps}, min_samples: {min_samples}, Clusters: {num_clusters}\")\n",
    "        \n",
    "        # Plotting each cluster with different colors\n",
    "        colors = ['black', 'red', 'blue', 'green', 'purple', 'orange', 'cyan']\n",
    "        unique_labels = set(y_means)\n",
    "\n",
    "        plt.figure(figsize=(8, 6))\n",
    "        for k in unique_labels:\n",
    "            if k == -1:\n",
    "                plt.scatter(X_scaled[y_means == k, 0], X_scaled[y_means == k, 1], c='black', s=50, label='Noise')\n",
    "            else:\n",
    "                color = colors[k % len(colors)]\n",
    "                plt.scatter(X_scaled[y_means == k, 0], X_scaled[y_means == k, 1], c=color, s=50, label=f'Cluster {k + 1}')\n",
    "\n",
    "        # Title and axis labels\n",
    "        plt.title(f\"DBSCAN Clustering (eps={eps}, min_samples={min_samples})\")\n",
    "        plt.xlabel(\"Feature 1\")\n",
    "        plt.ylabel(\"Feature 2\")\n",
    "\n",
    "        # Add gridlines\n",
    "        plt.grid(True)\n",
    "\n",
    "        # Place the legend outside the plot\n",
    "        plt.legend(loc='center left', bbox_to_anchor=(1, 0.5), fontsize='small', fancybox=True, shadow=True, title='Clusters', frameon=True)\n",
    "\n",
    "        # Adjust layout to make room for the legend\n",
    "        plt.tight_layout(rect=[0, 0, 0.85, 1])\n",
    "\n",
    "        # Show the plot\n",
    "        plt.show()\n"
   ]
  },
  {
   "cell_type": "code",
   "execution_count": null,
   "metadata": {},
   "outputs": [],
   "source": []
  }
 ],
 "metadata": {
  "kernelspec": {
   "display_name": "Python 3",
   "language": "python",
   "name": "python3"
  },
  "language_info": {
   "codemirror_mode": {
    "name": "ipython",
    "version": 3
   },
   "file_extension": ".py",
   "mimetype": "text/x-python",
   "name": "python",
   "nbconvert_exporter": "python",
   "pygments_lexer": "ipython3",
   "version": "3.7.8"
  }
 },
 "nbformat": 4,
 "nbformat_minor": 2
}
